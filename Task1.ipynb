{
 "cells": [
  {
   "cell_type": "code",
   "execution_count": 1,
   "id": "90d542ac-3a7e-4163-a16f-e6542eb48871",
   "metadata": {},
   "outputs": [
    {
     "name": "stdout",
     "output_type": "stream",
     "text": [
      "Mean Squared Error: 0.10082387222210552\n",
      "R-squared: 0.9557034075910414\n",
      "                Feature  Importance\n",
      "8                 Votes    0.954267\n",
      "2              Cuisines    0.015237\n",
      "3  Average Cost for two    0.009963\n",
      "0          Country Code    0.008271\n",
      "1                  City    0.007404\n",
      "5   Has Online delivery    0.002082\n",
      "7           Price range    0.001705\n",
      "4     Has Table booking    0.000910\n",
      "6     Is delivering now    0.000161\n"
     ]
    }
   ],
   "source": [
    "import pandas as pd\n",
    "from sklearn.model_selection import train_test_split\n",
    "from sklearn.ensemble import RandomForestRegressor\n",
    "from sklearn.metrics import mean_squared_error, r2_score\n",
    "from sklearn.preprocessing import LabelEncoder\n",
    "\n",
    "\n",
    "resataurant_df= pd.read_csv('Dataset.csv')  \n",
    "\n",
    "\n",
    "resataurant_df.fillna(resataurant_df.median(numeric_only=True), inplace=True)\n",
    "resataurant_df.fillna(\"Unknown\", inplace=True) \n",
    "\n",
    "\n",
    "binary_columns = ['Has Table booking', 'Has Online delivery', 'Is delivering now']\n",
    "for col in binary_columns:\n",
    "    resataurant_df[col] = resataurant_df[col].map({'Yes': 1, 'No': 0})\n",
    "\n",
    "\n",
    "categorical_columns = ['Country Code', 'City', 'Cuisines', 'Currency', 'Rating color', 'Rating text']\n",
    "label_encoders = {}\n",
    "for col in categorical_columns:\n",
    "    le = LabelEncoder()\n",
    "    resataurant_df[col] = le.fit_transform(resataurant_df[col])\n",
    "    label_encoders[col] = le\n",
    "\n",
    "\n",
    "features = ['Country Code', 'City', 'Cuisines', 'Average Cost for two', 'Has Table booking', \n",
    "            'Has Online delivery', 'Is delivering now', 'Price range', 'Votes']\n",
    "X = resataurant_df[features]\n",
    "Y= resataurant_df['Aggregate rating']\n",
    "\n",
    "\n",
    "x_train, x_test, y_train, y_test = train_test_split(X, Y, test_size=0.2, random_state=42)\n",
    "\n",
    "\n",
    "model = RandomForestRegressor(random_state=42)\n",
    "model.fit(x_train, y_train)\n",
    "\n",
    "\n",
    "y_pred = model.predict(x_test)\n",
    "mse = mean_squared_error(y_test, y_pred)\n",
    "r2 = r2_score(y_test, y_pred)\n",
    "print(f\"Mean Squared Error: {mse}\")\n",
    "print(f\"R-squared: {r2}\")\n",
    "\n",
    "\n",
    "importance = model.feature_importances_\n",
    "feature_importance = pd.DataFrame({'Feature': features, 'Importance': importance})\n",
    "print(feature_importance.sort_values(by='Importance', ascending=False))\n"
   ]
  },
  {
   "cell_type": "code",
   "execution_count": 2,
   "id": "8967b450-00df-4b9a-af3e-5a6e87cbdd4d",
   "metadata": {},
   "outputs": [
    {
     "name": "stdout",
     "output_type": "stream",
     "text": [
      "Predicted Aggregate Rating: 4.289999999999999\n"
     ]
    },
    {
     "name": "stderr",
     "output_type": "stream",
     "text": [
      "C:\\Users\\ASUS\\AppData\\Roaming\\Python\\Python311\\site-packages\\sklearn\\base.py:493: UserWarning: X does not have valid feature names, but RandomForestRegressor was fitted with feature names\n",
      "  warnings.warn(\n"
     ]
    }
   ],
   "source": [
    "from sklearn.preprocessing import LabelEncoder\n",
    "import numpy as np\n",
    "\n",
    "\n",
    "city_encoder = LabelEncoder()\n",
    "city_encoder.classes_ = np.array(['New Delhi', 'Mumbai', 'Bangalore'])  # Example classes\n",
    "cuisines_encoder = LabelEncoder()\n",
    "cuisines_encoder.classes_ = np.array(['North Indian', 'South Indian', 'Chinese'])  # Example classes\n",
    "\n",
    "\n",
    "test_input = [\n",
    "    [1,              # Country Code\n",
    "     \"New Delhi\",    # City\n",
    "     \"North Indian\", # Cuisines\n",
    "     800,            # Average Cost for two\n",
    "     1,              # Has Table booking\n",
    "     1,              # Has Online delivery\n",
    "     0,              # Is delivering now\n",
    "     2,              # Price range\n",
    "     2500]           # Votes\n",
    "]\n",
    "\n",
    "\n",
    "test_input[0][1] = city_encoder.transform([test_input[0][1]])[0]\n",
    "test_input[0][2] = cuisines_encoder.transform([test_input[0][2]])[0]\n",
    "\n",
    "\n",
    "test_input = np.array(test_input, dtype=float)\n",
    "\n",
    "\n",
    "predicted_rating = model.predict(test_input)\n",
    "print(\"Predicted Aggregate Rating:\", predicted_rating[0])\n"
   ]
  },
  {
   "cell_type": "code",
   "execution_count": null,
   "id": "6db990e5-2c63-4583-bae9-b9000430cc63",
   "metadata": {},
   "outputs": [],
   "source": []
  }
 ],
 "metadata": {
  "kernelspec": {
   "display_name": "Python 3 (ipykernel)",
   "language": "python",
   "name": "python3"
  },
  "language_info": {
   "codemirror_mode": {
    "name": "ipython",
    "version": 3
   },
   "file_extension": ".py",
   "mimetype": "text/x-python",
   "name": "python",
   "nbconvert_exporter": "python",
   "pygments_lexer": "ipython3",
   "version": "3.11.5"
  }
 },
 "nbformat": 4,
 "nbformat_minor": 5
}
