{
 "cells": [
  {
   "cell_type": "code",
   "execution_count": 1,
   "id": "c5b1b651-2c43-4dfa-b9bb-3d28aeb8ecc2",
   "metadata": {},
   "outputs": [
    {
     "name": "stdout",
     "output_type": "stream",
     "text": [
      "Recommended Restaurants:\n",
      "         Restaurant Name                   Cuisines       City  \\\n",
      "5931  Pizza Hut Delivery  Italian, Pizza, Fast Food  New Delhi   \n",
      "6057        Cafe Brownie              Cafe, Italian  New Delhi   \n",
      "6984      Katwalk Lounge              Cafe, Italian  New Delhi   \n",
      "4328                 Ego       Continental, Italian  New Delhi   \n",
      "4304            Fresc Co     Italian, Mediterranean  New Delhi   \n",
      "\n",
      "                Locality  Average Cost for two  Aggregate rating  \n",
      "5931  New Friends Colony                   800               3.9  \n",
      "6057           Paharganj                   600               0.0  \n",
      "6984        Satyaniketan                   600               3.3  \n",
      "4328              Jasola                   800               3.3  \n",
      "4304             Janpath                  1900               3.8  \n"
     ]
    }
   ],
   "source": [
    "import pandas as pd\n",
    "from sklearn.feature_extraction.text import CountVectorizer\n",
    "from sklearn.metrics.pairwise import cosine_similarity\n",
    "\n",
    "\n",
    "restaurant_df= pd.read_csv(\"Dataset.csv\")\n",
    "\n",
    "\n",
    "restaurant_df['Cuisines'] = restaurant_df['Cuisines'].fillna('Unknown')\n",
    "restaurant_df['Average Cost for two'] = restaurant_df['Average Cost for two'].fillna(restaurant_df['Average Cost for two'].median())\n",
    "restaurant_df['Aggregate rating'] = restaurant_df['Aggregate rating'].fillna(restaurant_df['Aggregate rating'].mean())\n",
    "\n",
    "\n",
    "restaurant_df['Has Table booking'] =restaurant_df['Has Table booking'].apply(lambda x: 1 if x == 'Yes' else 0)\n",
    "restaurant_df['Has Online delivery'] = restaurant_df['Has Online delivery'].apply(lambda x: 1 if x == 'Yes' else 0)\n",
    "restaurant_df['Is delivering now'] = restaurant_df['Is delivering now'].apply(lambda x: 1 if x == 'Yes' else 0)\n",
    "\n",
    "\n",
    "restaurant_df['Combined Features'] = (\n",
    "    restaurant_df['Cuisines'] + \" \" +\n",
    "    restaurant_df['City'] + \" \" +\n",
    "    restaurant_df['Locality'] + \" \" +\n",
    "    restaurant_df['Price range'].astype(str) + \" \" +\n",
    "    restaurant_df['Aggregate rating'].astype(str)\n",
    ")\n",
    "\n",
    "\n",
    "vectorizer = CountVectorizer()\n",
    "feature_matrix = vectorizer.fit_transform(restaurant_df['Combined Features'])\n",
    "\n",
    "\n",
    "similarity_matrix = cosine_similarity(feature_matrix)\n",
    "\n",
    "\n",
    "def recommend_restaurants(preferences, top_n=10):\n",
    "    \n",
    "    pref_features = (\n",
    "        preferences['Cuisines'] + \" \" +\n",
    "        preferences['City'] + \" \" +\n",
    "        preferences['Locality'] + \" \" +\n",
    "        str(preferences['Price range']) + \" \" +\n",
    "        str(preferences['Minimum Rating'])\n",
    "    )\n",
    "    pref_vector = vectorizer.transform([pref_features])\n",
    "\n",
    "   \n",
    "    scores = cosine_similarity(pref_vector, feature_matrix).flatten()\n",
    "\n",
    "    \n",
    "    top_indices = scores.argsort()[-top_n:][::-1]\n",
    "\n",
    "    \n",
    "    recommended_data = restaurant_df.iloc[top_indices]\n",
    "\n",
    "    \n",
    "    filtered_data = recommended_data[\n",
    "        (recommended_data['Price range'] <= preferences['Price range']) &\n",
    "        (recommended_data['Aggregate rating'] >= preferences['Minimum Rating'])\n",
    "    ]\n",
    "\n",
    "    if filtered_data.empty:\n",
    "        return recommended_data[['Restaurant Name', 'Cuisines', 'City', 'Locality', 'Average Cost for two', 'Aggregate rating']].head(top_n)\n",
    "    \n",
    "    return filtered_data[['Restaurant Name', 'Cuisines', 'City', 'Locality', 'Average Cost for two', 'Aggregate rating']].head(top_n)\n",
    "\n",
    "user_preferences = {\n",
    "    'Cuisines': 'Italian',\n",
    "    'City': 'New York',\n",
    "    'Locality': 'Manhattan',\n",
    "    'Price range': 3,\n",
    "    'Minimum Rating': 4.0\n",
    "}\n",
    "\n",
    "recommendations = recommend_restaurants(user_preferences, top_n=5)\n",
    "print(\"Recommended Restaurants:\")\n",
    "print(recommendations)\n"
   ]
  },
  {
   "cell_type": "code",
   "execution_count": 2,
   "id": "3b7eb13c-f04e-4503-9e22-c21ef40154ea",
   "metadata": {},
   "outputs": [
    {
     "name": "stdout",
     "output_type": "stream",
     "text": [
      "Recommended Restaurants:\n",
      "     Restaurant Name Cuisines       City  Locality  Average Cost for two  \\\n",
      "2463        Hao Ming  Chinese  Mangalore  Balmatta                   600   \n",
      "\n",
      "      Aggregate rating  \n",
      "2463               3.5  \n"
     ]
    }
   ],
   "source": [
    "user_preferences = {\n",
    "    'Cuisines': 'Chinese',\n",
    "    'City': 'San Francisco',\n",
    "    'Locality': 'Chinatown',\n",
    "    'Price range': 2,\n",
    "    'Minimum Rating': 3.5\n",
    "}\n",
    "\n",
    "recommendations = recommend_restaurants(user_preferences, top_n=5)\n",
    "print(\"Recommended Restaurants:\")\n",
    "print(recommendations)\n"
   ]
  },
  {
   "cell_type": "code",
   "execution_count": null,
   "id": "45315df8-3d00-48fb-9973-e593b1519b22",
   "metadata": {},
   "outputs": [],
   "source": []
  }
 ],
 "metadata": {
  "kernelspec": {
   "display_name": "Python 3 (ipykernel)",
   "language": "python",
   "name": "python3"
  },
  "language_info": {
   "codemirror_mode": {
    "name": "ipython",
    "version": 3
   },
   "file_extension": ".py",
   "mimetype": "text/x-python",
   "name": "python",
   "nbconvert_exporter": "python",
   "pygments_lexer": "ipython3",
   "version": "3.11.5"
  }
 },
 "nbformat": 4,
 "nbformat_minor": 5
}
